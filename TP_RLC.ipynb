{
  "nbformat": 4,
  "nbformat_minor": 0,
  "metadata": {
    "colab": {
      "name": "TP RLC.ipynb",
      "provenance": [],
      "collapsed_sections": []
    },
    "kernelspec": {
      "name": "python3",
      "display_name": "Python 3"
    }
  },
  "cells": [
    {
      "cell_type": "code",
      "metadata": {
        "id": "x-WWTnE-WoFw",
        "colab_type": "code",
        "cellView": "both",
        "colab": {
          "base_uri": "https://localhost:8080/",
          "height": 266
        },
        "outputId": "d6cbc3a7-70e4-43c1-c159-7a46089c2565"
      },
      "source": [
        "import numpy\n",
        "from matplotlib import pyplot  \n",
        "\n",
        "''' Trabajo práctico - RLC.\n",
        "El presente trabajo, desarrollado en la plataforma Google Collaboratory basada\n",
        "en el lenguaje de programación Pyhton, permite calcular parámetros de interés\n",
        "para un circuito en serie RLC. '''\n",
        "\n",
        "''' Guía de uso -\n",
        "1. Modificar los valores de la capacitancia, inductancia, resistencia, voltaje\n",
        "y frecuencia fuente.\n",
        "2. Los parámetros se encuentran en Faradios, Henrios, Ohmios, Volts y Hertz\n",
        "respectivamente.\n",
        "3. Ejecutar el programa, y verá los resultados al final. '''\n",
        "\n",
        "'''Ingreso de datos'''\n",
        "\n",
        "C =  0.000035#@param {type:\"number\"}\n",
        "L =  1.25#@param {type:\"number\"}\n",
        "R =  425#@param {type:\"number\"}\n",
        "voltaje =  150#@param {type:\"number\"}\n",
        "frecuenciaFuente =  60#@param {type:\"integer\"}\n",
        "\n",
        "'''Fórmulas: '''\n",
        "\n",
        "frecuencia_fuente_rads = (2*numpy.pi*frecuenciaFuente)\n",
        "frecuencia_de_resonancia = (1/numpy.sqrt(L*C))\n",
        "frecuencia_oscilacion = (frecuencia_fuente_rads/(2*(numpy.pi)))\n",
        "reactancia_capacitiva = (1/(frecuencia_fuente_rads*C))\n",
        "reactancia_inductiva = (frecuencia_fuente_rads*L)\n",
        "impedancia_compleja = numpy.sqrt((R**2)+((reactancia_inductiva-reactancia_capacitiva)**2))\n",
        "factor_q = ((frecuencia_fuente_rads*L)/R)\n",
        "corriente_max_circuito = (voltaje/impedancia_compleja)\n",
        "tension_resistencia = R*corriente_max_circuito\n",
        "tension_capacitor = reactancia_capacitiva*corriente_max_circuito\n",
        "tension_inductor = reactancia_inductiva*corriente_max_circuito\n",
        "potencia_promedio = (((((corriente_max_circuito**2)))*R)/2)\n",
        "angulo_de_fase = numpy.rad2deg((numpy.arctan((reactancia_inductiva-reactancia_capacitiva)/R)))\n",
        "\n",
        "'''Tipo de circuito'''\n",
        "\n",
        "if (abs(reactancia_inductiva - reactancia_capacitiva) < R):\n",
        "  print(\"El circuito es dominantemente resistivo \\n\") \n",
        "elif (reactancia_inductiva > reactancia_capacitiva):\n",
        "  print(\"El circuito es dominantemente inductivo \\n\")\n",
        "elif (reactancia_capacitiva > reactancia_inductiva):\n",
        "    print(\"El circuito es dominantemente capacitivo \\n\") \n",
        "  \n",
        "\n",
        "'''Resultados: '''\n",
        "\n",
        "print(\"La frecuencia angular es:\", round(frecuencia_fuente_rads,2),\"1/s\")\n",
        "print(\"La frecuencia de Resonancia es:\", round(frecuencia_de_resonancia,2),\"Hz\")\n",
        "print(\"La frecuencia de Oscilacion es:\", round(frecuencia_oscilacion,2),\"Hz\")\n",
        "print(\"La reactancia Capacitiva es :\" ,round(reactancia_capacitiva,2),\"Ohms\")\n",
        "print(\"La reactancia Inductiva es :\",  round(reactancia_inductiva,2),\"Ohms\")\n",
        "print(\"La impedancia Compleja es : \", round(impedancia_compleja,2),\"Ohms\")\n",
        "print(\"El ángulo de fase es:\", round(angulo_de_fase,2),\"°\")\n",
        "print(\"El valor del factor Q:\", round(factor_q, 2))\n",
        "print (\"La corriente que circula en el circuito es:\",round(corriente_max_circuito,2),\"A\")\n",
        "print (\"La diferencia de potencial en la resistencia es:\",round(tension_resistencia,2),\"V\")\n",
        "print (\"La diferencia de potencial en el capacitor es:\", round(tension_capacitor,2),\"V\")\n",
        "print (\"La diferencia de potencial en el inductor es:\",round(tension_inductor,2),\"V\")\n",
        "print (\"La potencia media es:\", round(potencia_promedio,2),\"W\")\n",
        "\n",
        "\n"
      ],
      "execution_count": 43,
      "outputs": [
        {
          "output_type": "stream",
          "text": [
            "El circuito es dominantemente resistivo \n",
            "\n",
            "La frecuencia angular es: 376.99 1/s\n",
            "La frecuencia de Resonancia es: 151.19 Hz\n",
            "La frecuencia de Oscilacion es: 60.0 Hz\n",
            "La reactancia Capacitiva es : 75.79 Ohms\n",
            "La reactancia Inductiva es : 471.24 Ohms\n",
            "La impedancia Compleja es :  580.52 Ohms\n",
            "El ángulo de fase es: 42.94 °\n",
            "El valor del factor Q: 1.11\n",
            "La corriente que circula en el circuito es: 0.26 A\n",
            "La diferencia de potencial en la resistencia es: 109.81 V\n",
            "La diferencia de potencial en el capacitor es: 19.58 V\n",
            "La diferencia de potencial en el inductor es: 121.76 V\n",
            "La potencia media es: 14.19 W\n"
          ],
          "name": "stdout"
        }
      ]
    }
  ]
}